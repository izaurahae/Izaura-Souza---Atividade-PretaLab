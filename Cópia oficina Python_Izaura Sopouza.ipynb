{
  "nbformat": 4,
  "nbformat_minor": 0,
  "metadata": {
    "colab": {
      "provenance": [],
      "gpuType": "T4",
      "include_colab_link": true
    },
    "kernelspec": {
      "name": "python3",
      "display_name": "Python 3"
    },
    "language_info": {
      "name": "python"
    }
  },
  "cells": [
    {
      "cell_type": "markdown",
      "metadata": {
        "id": "view-in-github",
        "colab_type": "text"
      },
      "source": [
        "<a href=\"https://colab.research.google.com/gist/izaurahae/c73df10475ba827a6e88ceb7ec566885/c-pia-de-oficina_python.ipynb\" target=\"_parent\"><img src=\"https://colab.research.google.com/assets/colab-badge.svg\" alt=\"Open In Colab\"/></a>"
      ]
    },
    {
      "cell_type": "markdown",
      "source": [
        "#Bem Vindas - E esse tal de pyhton?(Fazer o projeto em conjunto)\n",
        "\n",
        "Hoje vamos praticar alguns conceitos de python, iremos pegar revisão bem rápida de python básico e depois vamos parti para uma parte mais intermediário, certo?\n",
        "\n",
        "\n",
        "**Aula com a professora:** Nicole Pessoa<br>\n",
        "**Monitora:** Amanda Silva"
      ],
      "metadata": {
        "id": "uAsOMDVdui10"
      }
    },
    {
      "cell_type": "markdown",
      "source": [
        "## 1. Variáveis e Operadores\n",
        "\n",
        "O que são variáveis?\n",
        "\n",
        "São **\"caixinhas\"** que armazenam dados na memória. Em Python, não precisamos declarar o tipo (ela é dinâmica)."
      ],
      "metadata": {
        "id": "Wv109IBZvt8Q"
      }
    },
    {
      "cell_type": "code",
      "execution_count": 3,
      "metadata": {
        "id": "qhHYVlwqugWn"
      },
      "outputs": [],
      "source": [
        "name = \"Izaura\" #string (texto)\n",
        "idade = 26       #Int (inteiro)\n",
        "altura = 1.58  #Float(decimal)\n",
        "estudante = True  #boleano(True/False)"
      ]
    },
    {
      "cell_type": "markdown",
      "source": [
        "## Operadores Básicos\n",
        "\n",
        "    Aritméticos: +, -, *, /, // (divisão inteira), % (resto), ** (potência).\n",
        "\n",
        "    Comparação: ==, !=, >, <, >=, <=.\n",
        "\n",
        "    Lógicos: and, or, not."
      ],
      "metadata": {
        "id": "uZG-LeEXwMRs"
      }
    },
    {
      "cell_type": "code",
      "source": [
        "nota1 =6.7\n",
        "nota2 =8.7\n",
        "print(nota1 // nota2) # operador de divisão inteira. Ele retorna o maior número inteiro que é menor ou igual ao resultado da divisão (ou seja, \"corta\" as casas decimais).\n",
        "print( nota1 > nota2)\n",
        "print(nota2 != nota1)"
      ],
      "metadata": {
        "id": "PSlq8cA2wIzy",
        "colab": {
          "base_uri": "https://localhost:8080/"
        },
        "outputId": "931ca562-6742-4958-e7e9-0735034d0e51"
      },
      "execution_count": 8,
      "outputs": [
        {
          "output_type": "stream",
          "name": "stdout",
          "text": [
            "0.0\n",
            "False\n",
            "True\n"
          ]
        }
      ]
    },
    {
      "cell_type": "code",
      "source": [
        "#Vamos usar comparação para ver como pode ser usado como exemplo\n",
        "if nota1 >= 8:\n",
        "  print(\"Aprovado\")\n",
        "else:\n",
        "  print(\"Reprovado\")"
      ],
      "metadata": {
        "id": "lI6riVNf6c14",
        "colab": {
          "base_uri": "https://localhost:8080/"
        },
        "outputId": "1722ab19-1221-41a8-d5eb-4879cd47114a"
      },
      "execution_count": 11,
      "outputs": [
        {
          "output_type": "stream",
          "name": "stdout",
          "text": [
            "Reprovado\n"
          ]
        }
      ]
    },
    {
      "cell_type": "markdown",
      "source": [
        "## 2. Estruturas de Dados\n",
        "\n",
        "Listas (list)\n",
        "\n",
        "    Ordenadas, mutáveis e permitem itens duplicados."
      ],
      "metadata": {
        "id": "or5Due4Ywev_"
      }
    },
    {
      "cell_type": "code",
      "source": [
        "frutas =[bannan, pessego, pera, melancia]"
      ],
      "metadata": {
        "id": "vDRburwF8eYW",
        "colab": {
          "base_uri": "https://localhost:8080/",
          "height": 147
        },
        "outputId": "a1609ad6-e399-4ebe-c957-5da77939951e"
      },
      "execution_count": 12,
      "outputs": [
        {
          "output_type": "error",
          "ename": "NameError",
          "evalue": "name 'bannan' is not defined",
          "traceback": [
            "\u001b[0;31m---------------------------------------------------------------------------\u001b[0m",
            "\u001b[0;31mNameError\u001b[0m                                 Traceback (most recent call last)",
            "\u001b[0;32m<ipython-input-12-9830c87a85d8>\u001b[0m in \u001b[0;36m<cell line: 0>\u001b[0;34m()\u001b[0m\n\u001b[0;32m----> 1\u001b[0;31m \u001b[0mfrutas\u001b[0m \u001b[0;34m=\u001b[0m\u001b[0;34m[\u001b[0m\u001b[0mbannan\u001b[0m\u001b[0;34m,\u001b[0m \u001b[0mpessego\u001b[0m\u001b[0;34m,\u001b[0m \u001b[0mpera\u001b[0m\u001b[0;34m,\u001b[0m \u001b[0mmelancia\u001b[0m\u001b[0;34m]\u001b[0m\u001b[0;34m\u001b[0m\u001b[0;34m\u001b[0m\u001b[0m\n\u001b[0m",
            "\u001b[0;31mNameError\u001b[0m: name 'bannan' is not defined"
          ]
        }
      ]
    },
    {
      "cell_type": "code",
      "source": [
        "frutas =[\"banana\", \"pessego\",\"pera\",\"melancia\"]"
      ],
      "metadata": {
        "id": "WBG0GT2f8fh-"
      },
      "execution_count": 15,
      "outputs": []
    },
    {
      "cell_type": "code",
      "source": [
        "frutas.append(\"abacaxi\")  # Adiciona no final\n",
        "frutas[2] = \"morango\"     # Altera um item\n",
        "print (frutas[0])           # Acessa o primeiro item"
      ],
      "metadata": {
        "id": "z62LZhT-8405",
        "colab": {
          "base_uri": "https://localhost:8080/"
        },
        "outputId": "894f88e5-35f8-496f-b6c6-3e75864ab188"
      },
      "execution_count": 18,
      "outputs": [
        {
          "output_type": "stream",
          "name": "stdout",
          "text": [
            "banana\n"
          ]
        }
      ]
    },
    {
      "cell_type": "markdown",
      "source": [
        "Tuplas (tuple)\n",
        "\n",
        "    Ordenadas, imutáveis e permitem itens duplicados."
      ],
      "metadata": {
        "id": "93l4-wMrwx64"
      }
    },
    {
      "cell_type": "code",
      "source": [
        "#Exemplo 1: Tupla SimplesExemplo 1: Tupla Simples\n",
        "coordenadas =(10,20)\n",
        "\n"
      ],
      "metadata": {
        "id": "IkhpXiBtwxeM"
      },
      "execution_count": 20,
      "outputs": []
    },
    {
      "cell_type": "code",
      "source": [
        "#Exemplo 2: Tupla com Um Elemento\n",
        "tupla_unica = (42,) #tupla com único elemento precisa ter vírgula para ser tupla\n",
        "nao_e_tupla = (42)  #Isso é um número inteiro e não uma tupla\n"
      ],
      "metadata": {
        "id": "lOCp97fAxrUh"
      },
      "execution_count": null,
      "outputs": []
    },
    {
      "cell_type": "markdown",
      "source": [
        "Dicionários (dict)\n",
        "\n",
        "    Pares chave-valor, não ordenados, mutáveis."
      ],
      "metadata": {
        "id": "uuWwPjQZyJ4Q"
      }
    },
    {
      "cell_type": "code",
      "source": [
        "pessoa = {\"nome\":\"Izaura\",\"idade\":26}\n",
        "print(pessoa[\"nome\"],pessoa[\"idade\"])"
      ],
      "metadata": {
        "id": "KfkdLScsyEJu",
        "colab": {
          "base_uri": "https://localhost:8080/"
        },
        "outputId": "224550dc-eb6b-431b-9636-b6c5daec6079"
      },
      "execution_count": 30,
      "outputs": [
        {
          "output_type": "stream",
          "name": "stdout",
          "text": [
            "Izaura 26\n"
          ]
        }
      ]
    },
    {
      "cell_type": "markdown",
      "source": [
        "## 3. Loops e Condicionais\n",
        "\n",
        "```\n",
        "# Condicionais (if, elif, else)\n",
        "```\n",
        "\n",
        "\n",
        "Executa blocos de código conforme condições."
      ],
      "metadata": {
        "id": "e0fM62j4yZCL"
      }
    },
    {
      "cell_type": "code",
      "source": [
        "idade =18\n",
        "if idade >=18:\n",
        "  print(\"Habilitado\")\n",
        "\n",
        "\n",
        "elif idade <=16:\n",
        "  print(\"Provisória\")\n",
        "\n",
        "else:\n",
        "  print(\"Não habilitado\")"
      ],
      "metadata": {
        "id": "1bvgGxNSyj4d",
        "colab": {
          "base_uri": "https://localhost:8080/"
        },
        "outputId": "8a30059e-6c60-4299-a7b7-8b8ec8548061"
      },
      "execution_count": 31,
      "outputs": [
        {
          "output_type": "stream",
          "name": "stdout",
          "text": [
            "Habilitado\n"
          ]
        }
      ]
    },
    {
      "cell_type": "markdown",
      "source": [
        "\n",
        "Loops (for e while)\n"
      ],
      "metadata": {
        "id": "6bYRbdpEywlz"
      }
    },
    {
      "cell_type": "code",
      "source": [
        "#for (itera sobre sequências)\n",
        "numeros =[1,2,3]\n",
        "for num in numeros:\n",
        "    print(num*2)"
      ],
      "metadata": {
        "id": "KH7Dnu8fzUng",
        "colab": {
          "base_uri": "https://localhost:8080/"
        },
        "outputId": "461d39ad-98c0-4e5a-a2c9-95404a7dca8a"
      },
      "execution_count": 32,
      "outputs": [
        {
          "output_type": "stream",
          "name": "stdout",
          "text": [
            "2\n",
            "4\n",
            "6\n"
          ]
        }
      ]
    },
    {
      "cell_type": "code",
      "source": [
        "#while (executa enquanto condição for verdadeira)\n",
        "contador =0\n",
        "while contador <3:\n",
        "    print(contador)\n",
        "    contador += 1"
      ],
      "metadata": {
        "id": "qypT8h4_ztkl",
        "colab": {
          "base_uri": "https://localhost:8080/"
        },
        "outputId": "41630010-9a21-49b1-d75d-f1d86f03da3a"
      },
      "execution_count": 33,
      "outputs": [
        {
          "output_type": "stream",
          "name": "stdout",
          "text": [
            "0\n",
            "1\n",
            "2\n"
          ]
        }
      ]
    },
    {
      "cell_type": "markdown",
      "source": [
        "## 4. Funções (def)\n",
        "\n",
        "Blocos de código reutilizáveis que recebem parâmetros e retornam valores."
      ],
      "metadata": {
        "id": "GIPhCyOrz7O9"
      }
    },
    {
      "cell_type": "code",
      "source": [
        "#Função Básica\n",
        "def saudacao (nome):\n",
        "    return f\"Olá,{nome}\"\n",
        "\n",
        "print(saudacao('Izaura'))"
      ],
      "metadata": {
        "id": "FuM9yQXXz9JI",
        "colab": {
          "base_uri": "https://localhost:8080/"
        },
        "outputId": "8b4323ca-fc18-4dba-e309-5d55fe92a287"
      },
      "execution_count": 34,
      "outputs": [
        {
          "output_type": "stream",
          "name": "stdout",
          "text": [
            "Olá,Izaura\n"
          ]
        }
      ]
    },
    {
      "cell_type": "code",
      "source": [
        "#Parâmetros Padrão\n",
        "def ():\n",
        "    return\n",
        "\n",
        "print(())\n",
        "print(())"
      ],
      "metadata": {
        "id": "MFnfYOzr0NOE"
      },
      "execution_count": null,
      "outputs": []
    },
    {
      "cell_type": "markdown",
      "source": [
        "# Agora vamos aprofundar mais?"
      ],
      "metadata": {
        "id": "PH6CK1sc0j3x"
      }
    },
    {
      "cell_type": "markdown",
      "source": [
        "## 1. Estruturas de Dados Avançadas\n",
        "\n",
        "List Comprehension vs. Loops Tradicionais: Explicação para Iniciantes\n",
        "\n",
        "Imagina que você tem uma caixa de brinquedos (uma lista) e quer fazer uma operação com cada brinquedo. Você pode fazer isso de 2 formas:\n",
        "\n",
        "    Método Tradicional (Loop For)\n",
        "    → Pegar um brinquedo de cada vez, fazer a operação e colocar na nova caixa.\n",
        "    → Passo a passo, manualmente.\n",
        "\n",
        "    List Comprehension\n",
        "    → Uma \"mágica\" que transforma toda a caixa de uma vez.\n",
        "    → Mais rápido e elegante."
      ],
      "metadata": {
        "id": "U27hdgpM16eB"
      }
    },
    {
      "cell_type": "markdown",
      "source": [
        "**Exemplo 1: Dobrar Números**\n",
        "\n",
        "Situação: Você tem os números [1, 2, 3] e quer [2, 4, 6]."
      ],
      "metadata": {
        "id": "Zuyork3zO64M"
      }
    },
    {
      "cell_type": "code",
      "source": [
        "numeros = [1,2,3]\n",
        "dobrados = []\n",
        "for num in numeros:\n",
        "  dobrados.append(num*2)\n",
        "print(dobrados)\n"
      ],
      "metadata": {
        "id": "tb8umCz70NM1",
        "colab": {
          "base_uri": "https://localhost:8080/"
        },
        "outputId": "9b6f6efa-ec99-4580-816a-d1e967d0a7b0"
      },
      "execution_count": 36,
      "outputs": [
        {
          "output_type": "stream",
          "name": "stdout",
          "text": [
            "[2, 4, 6]\n"
          ]
        }
      ]
    },
    {
      "cell_type": "code",
      "source": [
        "#Versão com List Comprehension (Mágica)\n",
        "numeros = [1,2,3]\n",
        "dobrados = [num *2 for num in numeros]\n",
        "print(dobrados)"
      ],
      "metadata": {
        "id": "9NCceCBE2FvS",
        "colab": {
          "base_uri": "https://localhost:8080/"
        },
        "outputId": "05180588-6427-4aea-8aa1-1ea873582d0e"
      },
      "execution_count": 44,
      "outputs": [
        {
          "output_type": "stream",
          "name": "stdout",
          "text": [
            "[2, 4, 6]\n"
          ]
        }
      ]
    },
    {
      "cell_type": "markdown",
      "source": [
        "**Comparação:**\n",
        "\n",
        "    Loop: 3 linhas (criar lista vazia + loop + append)\n",
        "\n",
        "    List Comprehension: 1 linha só!"
      ],
      "metadata": {
        "id": "FcxPrme3POrH"
      }
    },
    {
      "cell_type": "markdown",
      "source": [
        "**Exemplo 2: Filtrar Frutas**\n",
        "\n",
        "Situação: Você tem [\"maçã\", \"banana\", \"morango\"] e quer só as com \"m\"."
      ],
      "metadata": {
        "id": "E2zQvj8oPTLb"
      }
    },
    {
      "cell_type": "code",
      "source": [
        "\n",
        "#Loop Tradicio\n",
        "frutas = [\"maçã\", \"banana\", \"morango\"]\n",
        "filtradas = []\n",
        "\n",
        "for fruta in frutas:\n",
        "    if fruta.startswith(\"m\"):\n",
        "        filtradas.append(fruta)\n",
        "\n",
        "print(filtradas)\n"
      ],
      "metadata": {
        "id": "lO_p5HLSPb6v",
        "colab": {
          "base_uri": "https://localhost:8080/"
        },
        "outputId": "b33fc790-38d0-483c-a103-295e838a79e6"
      },
      "execution_count": 51,
      "outputs": [
        {
          "output_type": "stream",
          "name": "stdout",
          "text": [
            "['maçã', 'morango']\n"
          ]
        }
      ]
    },
    {
      "cell_type": "code",
      "source": [
        "#List Comprehension\n",
        "frutas = [\"maçã\", \"banana\", \"morango\"]\n",
        "filtradas = [fruta for fruta]"
      ],
      "metadata": {
        "id": "LPCVykLzPlG4"
      },
      "execution_count": null,
      "outputs": []
    },
    {
      "cell_type": "markdown",
      "source": [
        "**Loop Tradicional:** Quando a lógica é complexa (muitos passos), Quando precisa de break ou continue e Melhor para iniciantes entenderem.\n",
        "\n",
        "**List Comprehension:** Para operações simples e transformações rápidas, Quando quer código mais limpo e Pythonico e Mais eficiente em performance para listas grandes."
      ],
      "metadata": {
        "id": "hB0BWa5XPykw"
      }
    },
    {
      "cell_type": "markdown",
      "source": [
        "b) Sets (Conjuntos)\n",
        "\n",
        "Úteis para operações matemáticas e remoção de duplicados."
      ],
      "metadata": {
        "id": "gZxMGZ-W2N7a"
      }
    },
    {
      "cell_type": "code",
      "source": [
        "#Exemplo 3: União e Interseção\n",
        "A = {1,2,3}\n",
        "B = {3,4,5}\n",
        "print(A.union(B))"
      ],
      "metadata": {
        "id": "7uDM1aDx2Sm_",
        "colab": {
          "base_uri": "https://localhost:8080/"
        },
        "outputId": "a4ced782-3119-46d9-d515-e3f1fdd4634b"
      },
      "execution_count": 52,
      "outputs": [
        {
          "output_type": "stream",
          "name": "stdout",
          "text": [
            "{1, 2, 3, 4, 5}\n"
          ]
        }
      ]
    },
    {
      "cell_type": "code",
      "source": [
        "#Exemplo 4: Remover Duplicados de uma Lista\n",
        "lista = [1,2,3,4,4,4]\n",
        "unicos = list(set(lista))\n",
        "print(unicos)"
      ],
      "metadata": {
        "id": "3z1AxXIe2aYB",
        "colab": {
          "base_uri": "https://localhost:8080/"
        },
        "outputId": "a642f803-d998-4459-9e58-4838d1618418"
      },
      "execution_count": 53,
      "outputs": [
        {
          "output_type": "stream",
          "name": "stdout",
          "text": [
            "[1, 2, 3, 4]\n"
          ]
        }
      ]
    },
    {
      "cell_type": "markdown",
      "source": [
        "c) Dicionários Avançados (defaultdict, Counter)"
      ],
      "metadata": {
        "id": "VRPzfvZ53fWY"
      }
    },
    {
      "cell_type": "code",
      "source": [
        "from typing import Counter\n",
        "from collections import Counter\n",
        "\n",
        "numeros = [1,2,3,4,4,4]\n",
        "countagem = Counter(numeros)\n",
        "print(countagem)"
      ],
      "metadata": {
        "id": "GQVguBhh3GoA",
        "colab": {
          "base_uri": "https://localhost:8080/"
        },
        "outputId": "b94fc953-98f4-447b-f277-5bbadd48d7f5"
      },
      "execution_count": 54,
      "outputs": [
        {
          "output_type": "stream",
          "name": "stdout",
          "text": [
            "Counter({4: 3, 1: 1, 2: 1, 3: 1})\n"
          ]
        }
      ]
    },
    {
      "cell_type": "code",
      "source": [
        "#Exemplo 6: defaultdict (Valor Padrão Automático)\n",
        "\n"
      ],
      "metadata": {
        "id": "PdetD8aV3w5l"
      },
      "execution_count": null,
      "outputs": []
    },
    {
      "cell_type": "markdown",
      "source": [
        "**Exercício:**\n",
        "\n",
        "Transforme este loop em List Comprehension:\n",
        "\n",
        "\n",
        "\n",
        "```\n",
        "# Loop original\n",
        "quadrados = []\n",
        "for num in range(1, 6):\n",
        "    quadrados.append(num ** 2)\n",
        "\n",
        "# Sua resposta aqui:\n",
        "quadrados = [_____ for _____ in _____]\n",
        "\n",
        "```\n",
        "\n"
      ],
      "metadata": {
        "id": "3-7eyHhV4Stc"
      }
    },
    {
      "cell_type": "markdown",
      "source": [
        "## 2. Manipulação de Arquivos\n",
        "\n",
        "a) Lendo e Escrevendo Arquivos\n",
        "\n",
        "[Para entender mais sobre](https://www.freecodecamp.org/portuguese/news/como-escrever-em-um-arquivo-em-python-open-read-append-e-outras-funcoes-de-manipulacao-explicadas/)"
      ],
      "metadata": {
        "id": "gmjzhmqb4j8o"
      }
    },
    {
      "cell_type": "code",
      "source": [
        "#Exemplo 7: Arquivo TXT\n",
        "# Escrevendo\n",
        "with open(\"dadods.txt\",\"W\") as arquivo:\n",
        "  arquivo.write(\"python\\ne\\incrivel\")\n",
        "\n",
        "# Lendo\n",
        "with open(\"dadods.txt\",\"R\") as arquivo:\n",
        "  conteudo = arquivo.read() #fica vazio mesmo para que possa fazer a leitura\n",
        "  print(conteudo)"
      ],
      "metadata": {
        "id": "0WS-PH6P4oK0"
      },
      "execution_count": null,
      "outputs": []
    },
    {
      "cell_type": "markdown",
      "source": [
        "Para você entender mais mais sobre importar com Pandas\n",
        "\n",
        "[Aprofando conhecimento de importação com pandas](https://www.datacamp.com/pt/tutorial/pandas-read-csv)"
      ],
      "metadata": {
        "id": "6AgPjs2YAqf7"
      }
    },
    {
      "cell_type": "code",
      "source": [
        "#Exemplo 8: Arquivo CSV (com Pandas)\n",
        "\n",
        "import pandas as  pd\n",
        "\n",
        "dados = pd.read_csv(\"dados.cv\")\n",
        "print(dados.head())\n",
        "\n",
        "# Lendo CSV\n",
        "\n",
        "\n",
        "# Calculando média de uma coluna\n"
      ],
      "metadata": {
        "id": "1zffJcMO4zYA"
      },
      "execution_count": null,
      "outputs": []
    },
    {
      "cell_type": "markdown",
      "source": [
        "**Exercício:**\n",
        "\n",
        "Crie um arquivo notas.csv com colunas aluno e nota, depois calcule a média das notas."
      ],
      "metadata": {
        "id": "O8QeIgMl53VA"
      }
    },
    {
      "cell_type": "markdown",
      "source": [
        "##3. Programação Orientada a Objetos (POO)\n",
        "\n",
        "a) Classes e Objetos\n",
        "Pense em classes como receitas de bolo e objetos como os bolos prontos.\n",
        "<br>\n",
        "\n",
        "\n",
        "Parte 1: A Receita (Classe)\n",
        "\n",
        "Uma classe é como um molde que define:\n",
        "\n",
        "    Atributos: \"Ingredientes\" do objeto (ex: cor, tamanho).\n",
        "\n",
        "    Métodos: \"Ações\" que o objeto pode fazer (ex: assar, decorar)."
      ],
      "metadata": {
        "id": "RLLB8P5d6JAR"
      }
    },
    {
      "cell_type": "code",
      "source": [
        "#Exemplo: Classe Bolo\n"
      ],
      "metadata": {
        "id": "Ykn-8_ma6Hi_"
      },
      "execution_count": null,
      "outputs": []
    },
    {
      "cell_type": "markdown",
      "source": [
        "Explicação:\n",
        "\n",
        "    __init__: Método especial que \"prepara\" o objeto (como misturar os ingredientes).\n",
        "\n",
        "    self.sabor: Cada bolo terá seu próprio sabor (atributo único)."
      ],
      "metadata": {
        "id": "OPHsFI4YR_Ut"
      }
    },
    {
      "cell_type": "markdown",
      "source": [
        "**Parte 2: Os Bolos Prontos (Objetos)**\n",
        "\n",
        "Quando você usa a receita para fazer um bolo, está criando um objeto."
      ],
      "metadata": {
        "id": "3Qr3ifTJSOo9"
      }
    },
    {
      "cell_type": "code",
      "source": [
        "#Exemplo: Criando Objetos\n",
        "\n"
      ],
      "metadata": {
        "id": "BP4qWbcTSHjI"
      },
      "execution_count": null,
      "outputs": []
    },
    {
      "cell_type": "markdown",
      "source": [
        "**Por que Usar Classes?**\n",
        "\n",
        "    Organização: Agrupa dados (atributos) e ações (métodos) em um único lugar.\n",
        "\n",
        "    Reutilização: Crie vários objetos com a mesma estrutura.\n",
        "\n",
        "    Flexibilidade: Cada objeto pode ter valores diferentes."
      ],
      "metadata": {
        "id": "UKpuvuXZS3Ro"
      }
    },
    {
      "cell_type": "markdown",
      "source": [
        "    Classe = Planta de uma casa (define como será).\n",
        "\n",
        "    Objeto = Casa construída (pode ter várias, cada uma com suas cores e donos)."
      ],
      "metadata": {
        "id": "VEr7JIr6S_un"
      }
    },
    {
      "cell_type": "markdown",
      "source": [
        "**Parte 3: Personalizando Objetos**\n",
        "\n",
        "Você pode modificar atributos depois de criar o objeto:\n",
        "bolo1.cobertura = \"castanhas\"  # Troca a cobertura\n",
        "print(bolo1.descrever())  # Agora: \"Bolo de chocolate com castanhas!\""
      ],
      "metadata": {
        "id": "UP1ATZwYSn6X"
      }
    },
    {
      "cell_type": "code",
      "source": [
        "  # Troca a cobertura\n",
        "  # Agora: \"Bolo de chocolate com castanhas!\""
      ],
      "metadata": {
        "id": "bLC8dEHBSnFJ"
      },
      "execution_count": null,
      "outputs": []
    },
    {
      "cell_type": "markdown",
      "source": [
        "## Herança e Polimorfismo: Explicação para Iniciantes\n",
        "\n",
        "Vamos dar exemplo de algo que vocês conhecem que é o zoológico e iremos organizar um de forma digital, já conseguiu visualizar né?\n",
        "\n",
        "1. Herança (Pai e Filho)\n",
        "\n",
        "    O que é?\n",
        "\n",
        "        É como uma herança de família: um filho herda características do pai.\n",
        "\n",
        "        No código: uma classe (filha) pode copiar atributos e métodos de outra classe (pai).\n",
        "\n",
        "    Exemplo Prático:\n",
        "\n",
        "      Todo animal tem um nome e faz um som.\n",
        "\n",
        "      Um cachorro é um animal, então ele herda essas características, mas seu som é diferente (\"Au Au!\")."
      ],
      "metadata": {
        "id": "8w96c14Q78Em"
      }
    },
    {
      "cell_type": "code",
      "source": [
        "#Aqui iremos fazer class com animal\n"
      ],
      "metadata": {
        "id": "927VWJrl6Fze"
      },
      "execution_count": null,
      "outputs": []
    },
    {
      "cell_type": "markdown",
      "source": [
        "Por que usar?\n",
        "\n",
        "    Para não repetir código (ex: todos os animais têm nome, mas cada um faz um som diferente)."
      ],
      "metadata": {
        "id": "86IEyxyf8ztU"
      }
    },
    {
      "cell_type": "markdown",
      "source": [
        "2. Polimorfismo (Múltiplas Formas)\n",
        "\n",
        "\n",
        "```\n",
        "É a capacidade de um mesmo método se comportar de formas diferentes dependendo do objeto.\n",
        "\n",
        "      Igual ao botão \"ligar\" em aparelhos:\n",
        "\n",
        "      Na TV: liga a tela.\n",
        "\n",
        "      No rádio: liga o som.\n",
        "```\n",
        "\n",
        "\n",
        "\n",
        "    Exemplo Prático:\n",
        "\n",
        "    A função fazer_som() funciona para qualquer animal, mas cada um tem sua própria versão do som."
      ],
      "metadata": {
        "id": "cXDfhdMc82r0"
      }
    },
    {
      "cell_type": "code",
      "source": [
        "#Vamos fazer som dos animais?\n"
      ],
      "metadata": {
        "id": "T9EOjVM345ls"
      },
      "execution_count": null,
      "outputs": []
    },
    {
      "cell_type": "markdown",
      "source": [
        "**Por que usar?**\n",
        "\n",
        "  Para escrever código flexível: a mesma função (fazer_som()) funciona com qualquer animal, sem precisar saber se é um cachorro, gato, etc."
      ],
      "metadata": {
        "id": "zgry4hat-DkW"
      }
    },
    {
      "cell_type": "markdown",
      "source": [
        "Comparação com o Mundo Real\n",
        "\n",
        "\n",
        "1.   **Conceito:** Heranças, Polimorfismo\n",
        "2.   **Exemplo do Mundo Real (Heranças):** Filho herda o sobrenome do pai.\n",
        "3.   **Exemplo do Mundo Real (Polimorfismo):** Botão \"ligar\" funciona em vários aparelhos.\n",
        "\n",
        "\n",
        "Exemplo em Python:\n",
        "\n",
        "```\n",
        "Heranças: Cachorro herda nome de Animal.\n",
        "```\n",
        "\n",
        "```\n",
        "Polimorfismo: fazer_som() funciona com Cachorro, Gato, etc.\n",
        "```\n",
        "\n",
        "\n",
        "\n"
      ],
      "metadata": {
        "id": "C6PWv0de-KzC"
      }
    },
    {
      "cell_type": "markdown",
      "source": [
        "**Exercício para Fixar**\n",
        "\n",
        "Crie uma classe Veiculo com método ligar(), e duas subclasses (Carro e Moto) que sobrescrevem esse método:"
      ],
      "metadata": {
        "id": "4NRwIS1K_qM4"
      }
    },
    {
      "cell_type": "markdown",
      "source": [
        "##NumPy: Arrays e Operações Matemáticas\n",
        "\n",
        "Pense no NumPy como uma super calculadora para lidar com listas de números. Ele é ultra-rápido e faz contas complexas em uma única linha!"
      ],
      "metadata": {
        "id": "ZVpFmAvB3D9c"
      }
    },
    {
      "cell_type": "markdown",
      "source": [
        "**Parte 1: Criando Arrays (Listas Turbinadas)**\n",
        "\n",
        "Array = Lista especial do NumPy que permite cálculos rápidos."
      ],
      "metadata": {
        "id": "Gmm90u9e3NdU"
      }
    },
    {
      "cell_type": "code",
      "source": [
        "#Exemplo 1: Array Básico\n"
      ],
      "metadata": {
        "id": "YdgKlRms3Cw3"
      },
      "execution_count": null,
      "outputs": []
    },
    {
      "cell_type": "markdown",
      "source": [
        "**Um array é uma estrutura de dados que armazena vários valores em uma única variável**"
      ],
      "metadata": {
        "id": "qtRH2d1u3NhU"
      }
    },
    {
      "cell_type": "markdown",
      "source": [
        "**Diferença Chave:**\n",
        "\n",
        "    Listas Python: [1, 2, 3]\n",
        "\n",
        "    Arrays NumPy: [1 2 3] (sem vírgulas, e cálculos instantâneos!)"
      ],
      "metadata": {
        "id": "VAYlKkKO3Zcn"
      }
    },
    {
      "cell_type": "markdown",
      "source": [
        "**Parte 2: Operações Vetorizadas (Sem Loops!)**\n",
        "\n",
        "\"Vetorizado\" = Fazer contas em todos os itens de uma vez (sem for)."
      ],
      "metadata": {
        "id": "_AmE90gb3egt"
      }
    },
    {
      "cell_type": "code",
      "source": [
        "#Exemplo 2: Soma Relâmpago\n"
      ],
      "metadata": {
        "id": "w6fGiprC3bpp"
      },
      "execution_count": null,
      "outputs": []
    },
    {
      "cell_type": "code",
      "source": [
        "#Exemplo 3: Matemática em Massa\n"
      ],
      "metadata": {
        "id": "Gy5AAjHL3xVS"
      },
      "execution_count": null,
      "outputs": []
    },
    {
      "cell_type": "markdown",
      "source": [
        "## Parte 3: Indexação Avançada\n"
      ],
      "metadata": {
        "id": "2cj-F6as3-AD"
      }
    },
    {
      "cell_type": "code",
      "source": [
        "#Exemplo 4: Slicing (Fatiamento)\n"
      ],
      "metadata": {
        "id": "Md_nySv735VB"
      },
      "execution_count": null,
      "outputs": []
    },
    {
      "cell_type": "code",
      "source": [
        "#Exemplo 5: Boolean Masking (Filtro Mágico)\n"
      ],
      "metadata": {
        "id": "NE9DGz0g4MzM"
      },
      "execution_count": null,
      "outputs": []
    },
    {
      "cell_type": "markdown",
      "source": [
        "Exercício Prático\n",
        "\n",
        "Problema: Dado o array [5, 10, 15, 20]:\n",
        "\n",
        "    Calcule a média. (Só usar o mean para calcular a média)\n",
        "\n",
        "    Filtre valores maiores que 10."
      ],
      "metadata": {
        "id": "3b3l1zwv4c4W"
      }
    },
    {
      "cell_type": "markdown",
      "source": [
        "#Exercício Geral\n",
        "\n",
        "O exercício que combina todos os conceitos que vimos (variáveis, listas, loops, funções, NumPy, POO e operadores)"
      ],
      "metadata": {
        "id": "EICVOCiTF-4k"
      }
    },
    {
      "cell_type": "markdown",
      "source": [
        "**1. Criar uma Classe Livro**\n",
        "\n",
        "    Atributos: titulo (string), autor (string), disponivel (boolean - inicie como True).\n",
        "\n",
        "    Método: emprestar() que muda disponivel para False."
      ],
      "metadata": {
        "id": "bTSuYRAxGLUh"
      }
    },
    {
      "cell_type": "code",
      "source": [
        "class Livro:\n",
        "    def __init__(self, titulo, autor):\n",
        "        self.titulo = titulo\n",
        "        self.autor = autor\n",
        "        self.disponivel = True  # começa como disponível\n",
        "\n",
        "    def emprestar(self):\n",
        "        self.disponivel = False\n"
      ],
      "metadata": {
        "id": "gMlhy7C7G8TA"
      },
      "execution_count": 59,
      "outputs": []
    },
    {
      "cell_type": "markdown",
      "source": [
        "**2. Lista de Livros e Operações**\n",
        "\n",
        "    Crie uma lista biblioteca com 3 livros (ex: \"Dom Casmurro\", \"1984\", \"O Pequeno Príncipe\").\n",
        "\n",
        "    Use um loop para emprestar um livro e imprimir seu status."
      ],
      "metadata": {
        "id": "CTHBZWneGRFu"
      }
    },
    {
      "cell_type": "code",
      "source": [
        "livros = [\"A culpa é das estrelas\", \"Dom Casmuro\",\"O pequeno príncipe\"]\n",
        "livros = [\"A Culpa é das Estrelas\", \"Dom Casmurro\", \"O Pequeno Príncipe\"]\n",
        "\n",
        "for livro in livros:\n",
        "    print(f'O livro \"{livro}\" foi emprestado.')"
      ],
      "metadata": {
        "id": "k228LPYqG3h2",
        "colab": {
          "base_uri": "https://localhost:8080/"
        },
        "outputId": "9b725e69-fe05-4e47-e0ff-d048837248eb"
      },
      "execution_count": 57,
      "outputs": [
        {
          "output_type": "stream",
          "name": "stdout",
          "text": [
            "O livro \"A Culpa é das Estrelas\" foi emprestado.\n",
            "O livro \"Dom Casmurro\" foi emprestado.\n",
            "O livro \"O Pequeno Príncipe\" foi emprestado.\n"
          ]
        }
      ]
    },
    {
      "cell_type": "markdown",
      "source": [
        "**3. Filtro com Boolean Masking**\n",
        "\n",
        "    Crie um array com páginas fictícias (ex: [200, 328, 96]).\n",
        "\n",
        "    Filtre livros com mais de 100 páginas."
      ],
      "metadata": {
        "id": "2lT4UGlcGWTa"
      }
    },
    {
      "cell_type": "code",
      "source": [
        "paginas = [200, 328, 96]\n",
        "maiores_que_100 = []\n",
        "\n",
        "for pagina in paginas:\n",
        "    if pagina > 100:\n",
        "        maiores_que_100.append(pagina)\n",
        "\n",
        "print(maiores_que_100)"
      ],
      "metadata": {
        "id": "7cgAepvqG2ja",
        "colab": {
          "base_uri": "https://localhost:8080/"
        },
        "outputId": "9f3239ef-7b78-405f-faca-043f0e9a7e52"
      },
      "execution_count": 60,
      "outputs": [
        {
          "output_type": "stream",
          "name": "stdout",
          "text": [
            "[200, 328]\n"
          ]
        }
      ]
    },
    {
      "cell_type": "markdown",
      "source": [
        "**4. Função com NumPy**\n",
        "\n",
        "    Crie um array NumPy com os anos de publicação fictícios (ex: [1899, 1949, 1943]).\n",
        "\n",
        "    Calcule a média dos anos."
      ],
      "metadata": {
        "id": "F24A_oOIGgbS"
      }
    },
    {
      "cell_type": "code",
      "source": [
        "import numpy as np\n",
        "anos =np.array([1899, 1949, 1943])\n",
        "media = np.mean(anos)\n",
        "\n",
        "print(f\"Média dos anos de publicação: {media}\")\n",
        "\n"
      ],
      "metadata": {
        "id": "TcBwd2FWG278",
        "colab": {
          "base_uri": "https://localhost:8080/"
        },
        "outputId": "9c43a62c-54c7-4460-e2a7-00bfb629b013"
      },
      "execution_count": 64,
      "outputs": [
        {
          "output_type": "stream",
          "name": "stdout",
          "text": [
            "Média dos anos de publicação: 1930.3333333333333\n"
          ]
        }
      ]
    },
    {
      "cell_type": "code",
      "source": [
        "\n"
      ],
      "metadata": {
        "id": "sjt6HJLfq8F6"
      },
      "execution_count": null,
      "outputs": []
    }
  ]
}